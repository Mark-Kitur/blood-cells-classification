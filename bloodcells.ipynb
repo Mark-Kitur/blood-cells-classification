{
 "cells": [
  {
   "cell_type": "code",
   "execution_count": 1,
   "metadata": {},
   "outputs": [],
   "source": [
    "import pandas as pd\n",
    "import numpy as np \n",
    "import matplotlib.pyplot as plt \n",
    "\n"
   ]
  },
  {
   "cell_type": "code",
   "execution_count": 2,
   "metadata": {},
   "outputs": [],
   "source": [
    "cv = pd.read_csv(r'E:\\vscode\\datasciences\\bloodcells\\dataset-master\\dataset-master\\labels.csv')"
   ]
  },
  {
   "cell_type": "code",
   "execution_count": 7,
   "metadata": {},
   "outputs": [
    {
     "ename": "NameError",
     "evalue": "name 'cv' is not defined",
     "output_type": "error",
     "traceback": [
      "\u001b[1;31m---------------------------------------------------------------------------\u001b[0m",
      "\u001b[1;31mNameError\u001b[0m                                 Traceback (most recent call last)",
      "\u001b[1;32me:\\vscode\\datasciences\\bloodcells\\bloodcells.ipynb Cell 3\u001b[0m line \u001b[0;36m1\n\u001b[1;32m----> <a href='vscode-notebook-cell:/e%3A/vscode/datasciences/bloodcells/bloodcells.ipynb#W2sZmlsZQ%3D%3D?line=0'>1</a>\u001b[0m cv\n",
      "\u001b[1;31mNameError\u001b[0m: name 'cv' is not defined"
     ]
    }
   ],
   "source": [
    "cv"
   ]
  },
  {
   "cell_type": "code",
   "execution_count": 8,
   "metadata": {},
   "outputs": [
    {
     "ename": "NameError",
     "evalue": "name 'cv' is not defined",
     "output_type": "error",
     "traceback": [
      "\u001b[1;31m---------------------------------------------------------------------------\u001b[0m",
      "\u001b[1;31mNameError\u001b[0m                                 Traceback (most recent call last)",
      "\u001b[1;32me:\\vscode\\datasciences\\bloodcells\\bloodcells.ipynb Cell 4\u001b[0m line \u001b[0;36m1\n\u001b[1;32m----> <a href='vscode-notebook-cell:/e%3A/vscode/datasciences/bloodcells/bloodcells.ipynb#W3sZmlsZQ%3D%3D?line=0'>1</a>\u001b[0m cv\u001b[39m.\u001b[39mdrop(\u001b[39m'\u001b[39m\u001b[39mUnnamed: 0\u001b[39m\u001b[39m'\u001b[39m, axis\u001b[39m=\u001b[39m\u001b[39m1\u001b[39m,inplace\u001b[39m=\u001b[39m\u001b[39mTrue\u001b[39;00m)\n",
      "\u001b[1;31mNameError\u001b[0m: name 'cv' is not defined"
     ]
    }
   ],
   "source": [
    "cv.drop('Unnamed: 0', axis=1,inplace=True)"
   ]
  },
  {
   "cell_type": "code",
   "execution_count": 5,
   "metadata": {},
   "outputs": [
    {
     "data": {
      "text/plain": [
       "Image        0\n",
       "Category    44\n",
       "dtype: int64"
      ]
     },
     "execution_count": 5,
     "metadata": {},
     "output_type": "execute_result"
    }
   ],
   "source": [
    "cv.isna().sum()"
   ]
  },
  {
   "cell_type": "code",
   "execution_count": 6,
   "metadata": {},
   "outputs": [],
   "source": [
    "cv.dropna(axis=0, inplace=True)"
   ]
  },
  {
   "cell_type": "code",
   "execution_count": 7,
   "metadata": {},
   "outputs": [],
   "source": [
    "cv.drop(0, inplace=True)"
   ]
  },
  {
   "cell_type": "code",
   "execution_count": 8,
   "metadata": {},
   "outputs": [
    {
     "data": {
      "text/html": [
       "<div>\n",
       "<style scoped>\n",
       "    .dataframe tbody tr th:only-of-type {\n",
       "        vertical-align: middle;\n",
       "    }\n",
       "\n",
       "    .dataframe tbody tr th {\n",
       "        vertical-align: top;\n",
       "    }\n",
       "\n",
       "    .dataframe thead th {\n",
       "        text-align: right;\n",
       "    }\n",
       "</style>\n",
       "<table border=\"1\" class=\"dataframe\">\n",
       "  <thead>\n",
       "    <tr style=\"text-align: right;\">\n",
       "      <th></th>\n",
       "      <th>Image</th>\n",
       "      <th>Category</th>\n",
       "    </tr>\n",
       "  </thead>\n",
       "  <tbody>\n",
       "    <tr>\n",
       "      <th>1</th>\n",
       "      <td>1</td>\n",
       "      <td>NEUTROPHIL</td>\n",
       "    </tr>\n",
       "    <tr>\n",
       "      <th>2</th>\n",
       "      <td>2</td>\n",
       "      <td>NEUTROPHIL</td>\n",
       "    </tr>\n",
       "    <tr>\n",
       "      <th>3</th>\n",
       "      <td>3</td>\n",
       "      <td>NEUTROPHIL</td>\n",
       "    </tr>\n",
       "    <tr>\n",
       "      <th>4</th>\n",
       "      <td>4</td>\n",
       "      <td>NEUTROPHIL</td>\n",
       "    </tr>\n",
       "    <tr>\n",
       "      <th>5</th>\n",
       "      <td>5</td>\n",
       "      <td>NEUTROPHIL</td>\n",
       "    </tr>\n",
       "    <tr>\n",
       "      <th>...</th>\n",
       "      <td>...</td>\n",
       "      <td>...</td>\n",
       "    </tr>\n",
       "    <tr>\n",
       "      <th>405</th>\n",
       "      <td>405</td>\n",
       "      <td>NEUTROPHIL</td>\n",
       "    </tr>\n",
       "    <tr>\n",
       "      <th>407</th>\n",
       "      <td>407</td>\n",
       "      <td>NEUTROPHIL</td>\n",
       "    </tr>\n",
       "    <tr>\n",
       "      <th>408</th>\n",
       "      <td>408</td>\n",
       "      <td>NEUTROPHIL</td>\n",
       "    </tr>\n",
       "    <tr>\n",
       "      <th>409</th>\n",
       "      <td>409</td>\n",
       "      <td>NEUTROPHIL</td>\n",
       "    </tr>\n",
       "    <tr>\n",
       "      <th>410</th>\n",
       "      <td>410</td>\n",
       "      <td>EOSINOPHIL</td>\n",
       "    </tr>\n",
       "  </tbody>\n",
       "</table>\n",
       "<p>366 rows × 2 columns</p>\n",
       "</div>"
      ],
      "text/plain": [
       "     Image    Category\n",
       "1        1  NEUTROPHIL\n",
       "2        2  NEUTROPHIL\n",
       "3        3  NEUTROPHIL\n",
       "4        4  NEUTROPHIL\n",
       "5        5  NEUTROPHIL\n",
       "..     ...         ...\n",
       "405    405  NEUTROPHIL\n",
       "407    407  NEUTROPHIL\n",
       "408    408  NEUTROPHIL\n",
       "409    409  NEUTROPHIL\n",
       "410    410  EOSINOPHIL\n",
       "\n",
       "[366 rows x 2 columns]"
      ]
     },
     "execution_count": 8,
     "metadata": {},
     "output_type": "execute_result"
    }
   ],
   "source": [
    "cv"
   ]
  },
  {
   "cell_type": "code",
   "execution_count": 9,
   "metadata": {},
   "outputs": [],
   "source": [
    "import os\n"
   ]
  },
  {
   "cell_type": "code",
   "execution_count": 10,
   "metadata": {},
   "outputs": [],
   "source": [
    "blood =['E:/vscode/datasciences/bloodcells/dataset-master/dataset-master/JPEGImages/'+ m for m in os.listdir('E:/vscode/datasciences/bloodcells/dataset-master/dataset-master/JPEGImages/')]"
   ]
  },
  {
   "cell_type": "code",
   "execution_count": 11,
   "metadata": {},
   "outputs": [],
   "source": [
    "cv1= pd.read_csv(r'E:\\vscode\\datasciences\\bloodcells\\dataset2-master\\dataset2-master\\labels.csv')"
   ]
  },
  {
   "cell_type": "code",
   "execution_count": 12,
   "metadata": {},
   "outputs": [],
   "source": [
    "eosinophil = ['E:/vscode/datasciences/bloodcells/dataset2-master/dataset2-master/images/TRAIN/EOSINOPHIL/' + k for k in os.listdir('E:/vscode/datasciences/bloodcells/dataset2-master/dataset2-master/images/TRAIN/EOSINOPHIL')]\n",
    "lymphocyte =['E:/vscode/datasciences/bloodcells/dataset2-master/dataset2-master/images/TRAIN/LYMPHOCYTE/'+ g for g in os.listdir('E:/vscode/datasciences/bloodcells/dataset2-master/dataset2-master/images/TRAIN/LYMPHOCYTE') ]\n",
    "monocyte =['E:/vscode/datasciences/bloodcells/dataset2-master/dataset2-master/images/TRAIN/MONOCYTE/' +p for p in os.listdir('E:/vscode/datasciences/bloodcells/dataset2-master/dataset2-master/images/TRAIN/MONOCYTE')]\n",
    "neutrophil = ['E:/vscode/datasciences/bloodcells/dataset2-master/dataset2-master/images/TRAIN/NEUTROPHIL/' +n for n in os.listdir(\"E:/vscode/datasciences/bloodcells/dataset2-master/dataset2-master/images/TRAIN/NEUTROPHIL\")]"
   ]
  },
  {
   "cell_type": "code",
   "execution_count": 13,
   "metadata": {},
   "outputs": [],
   "source": [
    "eosinophilt = ['E:/vscode/datasciences/bloodcells/dataset2-master/dataset2-master/images/TEST/EOSINOPHIL/' + k for k in os.listdir('E:/vscode/datasciences/bloodcells/dataset2-master/dataset2-master/images/TEST/EOSINOPHIL')]\n",
    "lymphocytet =['E:/vscode/datasciences/bloodcells/dataset2-master/dataset2-master/images/TEST/LYMPHOCYTE/'+ g for g in os.listdir('E:/vscode/datasciences/bloodcells/dataset2-master/dataset2-master/images/TEST/LYMPHOCYTE') ]\n",
    "monocytet =['E:/vscode/datasciences/bloodcells/dataset2-master/dataset2-master/images/TEST/MONOCYTE/' +p for p in os.listdir('E:/vscode/datasciences/bloodcells/dataset2-master/dataset2-master/images/TEST/MONOCYTE')]\n",
    "neutrophilt = ['E:/vscode/datasciences/bloodcells/dataset2-master/dataset2-master/images/TEST/NEUTROPHIL/' +n for n in os.listdir(\"E:/vscode/datasciences/bloodcells/dataset2-master/dataset2-master/images/TEST/NEUTROPHIL\")]"
   ]
  },
  {
   "cell_type": "code",
   "execution_count": 14,
   "metadata": {},
   "outputs": [
    {
     "data": {
      "text/html": [
       "<div>\n",
       "<style scoped>\n",
       "    .dataframe tbody tr th:only-of-type {\n",
       "        vertical-align: middle;\n",
       "    }\n",
       "\n",
       "    .dataframe tbody tr th {\n",
       "        vertical-align: top;\n",
       "    }\n",
       "\n",
       "    .dataframe thead th {\n",
       "        text-align: right;\n",
       "    }\n",
       "</style>\n",
       "<table border=\"1\" class=\"dataframe\">\n",
       "  <thead>\n",
       "    <tr style=\"text-align: right;\">\n",
       "      <th></th>\n",
       "      <th>id</th>\n",
       "      <th>name</th>\n",
       "    </tr>\n",
       "  </thead>\n",
       "  <tbody>\n",
       "    <tr>\n",
       "      <th>0</th>\n",
       "      <td>E:/vscode/datasciences/bloodcells/dataset2-mas...</td>\n",
       "      <td>eosinophil</td>\n",
       "    </tr>\n",
       "    <tr>\n",
       "      <th>1</th>\n",
       "      <td>E:/vscode/datasciences/bloodcells/dataset2-mas...</td>\n",
       "      <td>neutrophil</td>\n",
       "    </tr>\n",
       "    <tr>\n",
       "      <th>2</th>\n",
       "      <td>E:/vscode/datasciences/bloodcells/dataset2-mas...</td>\n",
       "      <td>neutrophil</td>\n",
       "    </tr>\n",
       "    <tr>\n",
       "      <th>3</th>\n",
       "      <td>E:/vscode/datasciences/bloodcells/dataset2-mas...</td>\n",
       "      <td>neutrophil</td>\n",
       "    </tr>\n",
       "    <tr>\n",
       "      <th>4</th>\n",
       "      <td>E:/vscode/datasciences/bloodcells/dataset2-mas...</td>\n",
       "      <td>eosinophil</td>\n",
       "    </tr>\n",
       "    <tr>\n",
       "      <th>...</th>\n",
       "      <td>...</td>\n",
       "      <td>...</td>\n",
       "    </tr>\n",
       "    <tr>\n",
       "      <th>9952</th>\n",
       "      <td>E:/vscode/datasciences/bloodcells/dataset2-mas...</td>\n",
       "      <td>lymphocyte</td>\n",
       "    </tr>\n",
       "    <tr>\n",
       "      <th>9953</th>\n",
       "      <td>E:/vscode/datasciences/bloodcells/dataset2-mas...</td>\n",
       "      <td>neutrophil</td>\n",
       "    </tr>\n",
       "    <tr>\n",
       "      <th>9954</th>\n",
       "      <td>E:/vscode/datasciences/bloodcells/dataset2-mas...</td>\n",
       "      <td>monocyte</td>\n",
       "    </tr>\n",
       "    <tr>\n",
       "      <th>9955</th>\n",
       "      <td>E:/vscode/datasciences/bloodcells/dataset2-mas...</td>\n",
       "      <td>neutrophil</td>\n",
       "    </tr>\n",
       "    <tr>\n",
       "      <th>9956</th>\n",
       "      <td>E:/vscode/datasciences/bloodcells/dataset2-mas...</td>\n",
       "      <td>eosinophil</td>\n",
       "    </tr>\n",
       "  </tbody>\n",
       "</table>\n",
       "<p>9957 rows × 2 columns</p>\n",
       "</div>"
      ],
      "text/plain": [
       "                                                     id        name\n",
       "0     E:/vscode/datasciences/bloodcells/dataset2-mas...  eosinophil\n",
       "1     E:/vscode/datasciences/bloodcells/dataset2-mas...  neutrophil\n",
       "2     E:/vscode/datasciences/bloodcells/dataset2-mas...  neutrophil\n",
       "3     E:/vscode/datasciences/bloodcells/dataset2-mas...  neutrophil\n",
       "4     E:/vscode/datasciences/bloodcells/dataset2-mas...  eosinophil\n",
       "...                                                 ...         ...\n",
       "9952  E:/vscode/datasciences/bloodcells/dataset2-mas...  lymphocyte\n",
       "9953  E:/vscode/datasciences/bloodcells/dataset2-mas...  neutrophil\n",
       "9954  E:/vscode/datasciences/bloodcells/dataset2-mas...    monocyte\n",
       "9955  E:/vscode/datasciences/bloodcells/dataset2-mas...  neutrophil\n",
       "9956  E:/vscode/datasciences/bloodcells/dataset2-mas...  eosinophil\n",
       "\n",
       "[9957 rows x 2 columns]"
      ]
     },
     "execution_count": 14,
     "metadata": {},
     "output_type": "execute_result"
    }
   ],
   "source": [
    "cells = pd.DataFrame(columns=['id', 'name'])\n",
    "cells['id'] = eosinophil\n",
    "cells['name'] = 'eosinophil'\n",
    "cells1 = pd.DataFrame(columns=['id', 'name'])\n",
    "cells1['id'] = lymphocyte\n",
    "cells1['name'] = 'lymphocyte'\n",
    "cells2= pd.DataFrame(columns=['id', 'name'])\n",
    "cells2['id'] = monocyte\n",
    "cells2['name'] = 'monocyte'\n",
    "cells3= pd.DataFrame(columns=['id', 'name'])\n",
    "cells3['id'] = neutrophil\n",
    "cells3['name'] = 'neutrophil'\n",
    "\n",
    "\n",
    "\n",
    "cell= pd.concat([cells,cells1, cells2,cells3],ignore_index=False)\n",
    "cell= cell.sample(frac=1, ignore_index=True)\n",
    "cell"
   ]
  },
  {
   "cell_type": "markdown",
   "metadata": {},
   "source": [
    "# Test data"
   ]
  },
  {
   "cell_type": "code",
   "execution_count": 15,
   "metadata": {},
   "outputs": [
    {
     "data": {
      "text/html": [
       "<div>\n",
       "<style scoped>\n",
       "    .dataframe tbody tr th:only-of-type {\n",
       "        vertical-align: middle;\n",
       "    }\n",
       "\n",
       "    .dataframe tbody tr th {\n",
       "        vertical-align: top;\n",
       "    }\n",
       "\n",
       "    .dataframe thead th {\n",
       "        text-align: right;\n",
       "    }\n",
       "</style>\n",
       "<table border=\"1\" class=\"dataframe\">\n",
       "  <thead>\n",
       "    <tr style=\"text-align: right;\">\n",
       "      <th></th>\n",
       "      <th>id</th>\n",
       "      <th>name</th>\n",
       "    </tr>\n",
       "  </thead>\n",
       "  <tbody>\n",
       "    <tr>\n",
       "      <th>0</th>\n",
       "      <td>E:/vscode/datasciences/bloodcells/dataset2-mas...</td>\n",
       "      <td>eosinophil</td>\n",
       "    </tr>\n",
       "    <tr>\n",
       "      <th>1</th>\n",
       "      <td>E:/vscode/datasciences/bloodcells/dataset2-mas...</td>\n",
       "      <td>monocyte</td>\n",
       "    </tr>\n",
       "    <tr>\n",
       "      <th>2</th>\n",
       "      <td>E:/vscode/datasciences/bloodcells/dataset2-mas...</td>\n",
       "      <td>eosinophil</td>\n",
       "    </tr>\n",
       "    <tr>\n",
       "      <th>3</th>\n",
       "      <td>E:/vscode/datasciences/bloodcells/dataset2-mas...</td>\n",
       "      <td>neutrophil</td>\n",
       "    </tr>\n",
       "    <tr>\n",
       "      <th>4</th>\n",
       "      <td>E:/vscode/datasciences/bloodcells/dataset2-mas...</td>\n",
       "      <td>neutrophil</td>\n",
       "    </tr>\n",
       "    <tr>\n",
       "      <th>...</th>\n",
       "      <td>...</td>\n",
       "      <td>...</td>\n",
       "    </tr>\n",
       "    <tr>\n",
       "      <th>2482</th>\n",
       "      <td>E:/vscode/datasciences/bloodcells/dataset2-mas...</td>\n",
       "      <td>lymphocyte</td>\n",
       "    </tr>\n",
       "    <tr>\n",
       "      <th>2483</th>\n",
       "      <td>E:/vscode/datasciences/bloodcells/dataset2-mas...</td>\n",
       "      <td>lymphocyte</td>\n",
       "    </tr>\n",
       "    <tr>\n",
       "      <th>2484</th>\n",
       "      <td>E:/vscode/datasciences/bloodcells/dataset2-mas...</td>\n",
       "      <td>eosinophil</td>\n",
       "    </tr>\n",
       "    <tr>\n",
       "      <th>2485</th>\n",
       "      <td>E:/vscode/datasciences/bloodcells/dataset2-mas...</td>\n",
       "      <td>lymphocyte</td>\n",
       "    </tr>\n",
       "    <tr>\n",
       "      <th>2486</th>\n",
       "      <td>E:/vscode/datasciences/bloodcells/dataset2-mas...</td>\n",
       "      <td>eosinophil</td>\n",
       "    </tr>\n",
       "  </tbody>\n",
       "</table>\n",
       "<p>2487 rows × 2 columns</p>\n",
       "</div>"
      ],
      "text/plain": [
       "                                                     id        name\n",
       "0     E:/vscode/datasciences/bloodcells/dataset2-mas...  eosinophil\n",
       "1     E:/vscode/datasciences/bloodcells/dataset2-mas...    monocyte\n",
       "2     E:/vscode/datasciences/bloodcells/dataset2-mas...  eosinophil\n",
       "3     E:/vscode/datasciences/bloodcells/dataset2-mas...  neutrophil\n",
       "4     E:/vscode/datasciences/bloodcells/dataset2-mas...  neutrophil\n",
       "...                                                 ...         ...\n",
       "2482  E:/vscode/datasciences/bloodcells/dataset2-mas...  lymphocyte\n",
       "2483  E:/vscode/datasciences/bloodcells/dataset2-mas...  lymphocyte\n",
       "2484  E:/vscode/datasciences/bloodcells/dataset2-mas...  eosinophil\n",
       "2485  E:/vscode/datasciences/bloodcells/dataset2-mas...  lymphocyte\n",
       "2486  E:/vscode/datasciences/bloodcells/dataset2-mas...  eosinophil\n",
       "\n",
       "[2487 rows x 2 columns]"
      ]
     },
     "execution_count": 15,
     "metadata": {},
     "output_type": "execute_result"
    }
   ],
   "source": [
    "cells = pd.DataFrame(columns=['id', 'name'])\n",
    "cells['id'] = eosinophilt\n",
    "cells['name'] = 'eosinophil'\n",
    "cells1 = pd.DataFrame(columns=['id', 'name'])\n",
    "cells1['id'] = lymphocytet\n",
    "cells1['name'] = 'lymphocyte'\n",
    "cells2= pd.DataFrame(columns=['id', 'name'])\n",
    "cells2['id'] = monocytet\n",
    "cells2['name'] = 'monocyte'\n",
    "cells3= pd.DataFrame(columns=['id', 'name'])\n",
    "cells3['id'] = neutrophilt\n",
    "cells3['name'] = 'neutrophil'\n",
    "\n",
    "\n",
    "\n",
    "cell_t= pd.concat([cells,cells1, cells2,cells3],ignore_index=False)\n",
    "cell_t= cell_t.sample(frac=1, ignore_index=True)\n",
    "cell_t"
   ]
  },
  {
   "cell_type": "markdown",
   "metadata": {},
   "source": [
    "# sort names for both training and testing "
   ]
  },
  {
   "cell_type": "markdown",
   "metadata": {},
   "source": [
    "# TRAINING "
   ]
  },
  {
   "cell_type": "code",
   "execution_count": 16,
   "metadata": {},
   "outputs": [
    {
     "data": {
      "text/plain": [
       "9957"
      ]
     },
     "execution_count": 16,
     "metadata": {},
     "output_type": "execute_result"
    }
   ],
   "source": [
    "names = cell['name'].to_numpy()\n",
    "\n",
    "uni = np.unique(names)\n",
    "\n",
    "unique_labels = [ h == uni for h in names]\n",
    "\n",
    "len(unique_labels)"
   ]
  },
  {
   "cell_type": "code",
   "execution_count": 17,
   "metadata": {},
   "outputs": [
    {
     "data": {
      "text/plain": [
       "array([False,  True, False, False])"
      ]
     },
     "execution_count": 17,
     "metadata": {},
     "output_type": "execute_result"
    }
   ],
   "source": [
    "unique_labels[13]"
   ]
  },
  {
   "cell_type": "code",
   "execution_count": 18,
   "metadata": {},
   "outputs": [],
   "source": [
    "filepaths = cell['id']"
   ]
  },
  {
   "cell_type": "code",
   "execution_count": 19,
   "metadata": {},
   "outputs": [
    {
     "data": {
      "text/plain": [
       "9957"
      ]
     },
     "execution_count": 19,
     "metadata": {},
     "output_type": "execute_result"
    }
   ],
   "source": [
    "len(filepaths)"
   ]
  },
  {
   "cell_type": "markdown",
   "metadata": {},
   "source": [
    "# TESTING"
   ]
  },
  {
   "cell_type": "code",
   "execution_count": 20,
   "metadata": {},
   "outputs": [
    {
     "data": {
      "text/plain": [
       "2487"
      ]
     },
     "execution_count": 20,
     "metadata": {},
     "output_type": "execute_result"
    }
   ],
   "source": [
    "namest = cell_t['name'].to_numpy()\n",
    "\n",
    "unit = np.unique(namest)\n",
    "\n",
    "unique_labels_t = [ h == unit for h in namest]\n",
    "\n",
    "len(unique_labels_t)"
   ]
  },
  {
   "cell_type": "code",
   "execution_count": 21,
   "metadata": {},
   "outputs": [
    {
     "data": {
      "text/plain": [
       "array([ True, False, False, False])"
      ]
     },
     "execution_count": 21,
     "metadata": {},
     "output_type": "execute_result"
    }
   ],
   "source": [
    "unique_labels_t[13]"
   ]
  },
  {
   "cell_type": "code",
   "execution_count": 22,
   "metadata": {},
   "outputs": [
    {
     "data": {
      "text/plain": [
       "2487"
      ]
     },
     "execution_count": 22,
     "metadata": {},
     "output_type": "execute_result"
    }
   ],
   "source": [
    "filepaths_t = cell_t['id']\n",
    "len(filepaths_t)"
   ]
  },
  {
   "cell_type": "markdown",
   "metadata": {},
   "source": [
    "# Preprocessing Images"
   ]
  },
  {
   "cell_type": "code",
   "execution_count": 23,
   "metadata": {},
   "outputs": [],
   "source": [
    "import tensorflow as tf \n",
    "import tensorflow_hub as hub"
   ]
  },
  {
   "cell_type": "code",
   "execution_count": 25,
   "metadata": {},
   "outputs": [],
   "source": [
    "IMG_SIZE =224\n",
    "def preprocessing_image(fp,IMG_SIZE=IMG_SIZE):\n",
    "    #Get file path\n",
    "    image = tf.io.read_file(fp)\n",
    "    # decode\n",
    "    image = tf.image.decode_jpeg(image, channels=3)\n",
    "    # rescale\n",
    "    image = tf.image.convert_image_dtype(image, tf.float32)\n",
    "    #resize\n",
    "    image  = tf.image.resize(image, size=[IMG_SIZE,IMG_SIZE])\n",
    "    \n",
    "\n",
    "    \n",
    "    return image"
   ]
  },
  {
   "cell_type": "markdown",
   "metadata": {},
   "source": [
    "# Getting image label"
   ]
  },
  {
   "cell_type": "code",
   "execution_count": null,
   "metadata": {},
   "outputs": [],
   "source": [
    "def get_image_label (fp, label):\n",
    "    \n",
    "    image = preprocessing_image(fp)\n",
    "    \n",
    "    return image, label"
   ]
  },
  {
   "cell_type": "markdown",
   "metadata": {},
   "source": [
    "# BATCHING"
   ]
  },
  {
   "cell_type": "code",
   "execution_count": null,
   "metadata": {},
   "outputs": [],
   "source": [
    "BATCH_SIZE =32\n",
    "def batching (x,y=None,BATCH_SIZE=BATCH_SIZE,validation_data=False,testing_data=False):\n",
    "    # testing data\n",
    "    if testing_data:\n",
    "        print('Creating testing data sets....')\n",
    "        data = tf.data.Dataset.from_tensor_slices((tf.constant(x)))\n",
    "        data_batch= data.map(preprocessing_image).batch(BATCH_SIZE)\n",
    "        \n",
    "        return data_batch\n",
    "    \n",
    "    elif validation_data:\n",
    "        print('creating validation data sets......')\n",
    "        data = tf.data.Dataset.from_tensor_slices((tf.constant(x),\n",
    "                                                (tf.constant(y))))\n",
    "        data_batch = data.map(get_image_label).batch(BATCH_SIZE)\n",
    "        \n",
    "        return data_batch\n",
    "    \n",
    "    else:\n",
    "        print('Creating training data sets..........')\n",
    "        \n",
    "        data =tf.data.Dataset.from_tensor_slices((tf.constant(x),(tf.constant(y))))\n",
    "        #shuffle\n",
    "        data= data.shuffle(buffer_size=len(x))\n",
    "        \n",
    "        data= data.map(get_image_label)\n",
    "        data_batch= data.batch(BATCH_SIZE)\n",
    "        \n",
    "        return data_batch"
   ]
  },
  {
   "cell_type": "code",
   "execution_count": null,
   "metadata": {},
   "outputs": [
    {
     "name": "stdout",
     "output_type": "stream",
     "text": [
      "Creating training data sets..........\n"
     ]
    }
   ],
   "source": [
    "training_data = batching(filepaths,unique_labels)"
   ]
  },
  {
   "cell_type": "code",
   "execution_count": null,
   "metadata": {},
   "outputs": [
    {
     "name": "stdout",
     "output_type": "stream",
     "text": [
      "creating validation data sets......\n"
     ]
    }
   ],
   "source": [
    "val_data= batching(filepaths_t, unique_labels_t,validation_data=True)"
   ]
  },
  {
   "cell_type": "code",
   "execution_count": null,
   "metadata": {},
   "outputs": [
    {
     "data": {
      "text/plain": [
       "((TensorSpec(shape=(None, 224, 224, 3), dtype=tf.float32, name=None),\n",
       "  TensorSpec(shape=(None, 4), dtype=tf.bool, name=None)),\n",
       " (TensorSpec(shape=(None, 224, 224, 3), dtype=tf.float32, name=None),\n",
       "  TensorSpec(shape=(None, 4), dtype=tf.bool, name=None)))"
      ]
     },
     "execution_count": 86,
     "metadata": {},
     "output_type": "execute_result"
    }
   ],
   "source": [
    "training_data.element_spec, val_data.element_spec"
   ]
  },
  {
   "cell_type": "markdown",
   "metadata": {},
   "source": [
    "# Building a model"
   ]
  },
  {
   "cell_type": "code",
   "execution_count": 1,
   "metadata": {},
   "outputs": [],
   "source": [
    "INPUT_SHAPE = [None, 224,224,3]\n",
    "OUTPUT_SHAPE = 4\n",
    "MODEL_URL = \"https://www.kaggle.com/models/tensorflow/efficientnet/frameworks/TensorFlow2/variations/b7-classification/versions/1\""
   ]
  },
  {
   "cell_type": "code",
   "execution_count": 2,
   "metadata": {},
   "outputs": [],
   "source": [
    "def b_model(INPUT_SHAPE=INPUT_SHAPE, OUTPUT_SHAPE=OUTPUT_SHAPE,MODEL_URL=MODEL_URL):\n",
    "    \n",
    "    #set up layers\n",
    "    model = tf.keras.Sequential([hub.KerasLayer(MODEL_URL),\n",
    "                                tf.keras.layers.Dense(units=OUTPUT_SHAPE,\n",
    "                                                    activation='softmax')])\n",
    "    # compile\n",
    "    model.compile(\n",
    "        loss = tf.keras.losses.CategoricalCrossentropy(),\n",
    "        optimizer= tf.keras.optimizers.Adam(),\n",
    "        metrics= 'accuracy'\n",
    "    )\n",
    "    \n",
    "    model.build(INPUT_SHAPE)\n",
    "    \n",
    "    return model"
   ]
  },
  {
   "cell_type": "code",
   "execution_count": 10,
   "metadata": {},
   "outputs": [],
   "source": [
    "import tensorflow as tf\n",
    "import tensorflow_hub as hub"
   ]
  },
  {
   "cell_type": "code",
   "execution_count": 11,
   "metadata": {},
   "outputs": [
    {
     "ename": "KeyboardInterrupt",
     "evalue": "",
     "output_type": "error",
     "traceback": [
      "\u001b[1;31m---------------------------------------------------------------------------\u001b[0m",
      "\u001b[1;31mKeyboardInterrupt\u001b[0m                         Traceback (most recent call last)",
      "\u001b[1;32me:\\vscode\\datasciences\\bloodcells\\bloodcells.ipynb Cell 41\u001b[0m line \u001b[0;36m1\n\u001b[1;32m----> <a href='vscode-notebook-cell:/e%3A/vscode/datasciences/bloodcells/bloodcells.ipynb#X54sZmlsZQ%3D%3D?line=0'>1</a>\u001b[0m model\u001b[39m=\u001b[39m b_model()\n",
      "\u001b[1;32me:\\vscode\\datasciences\\bloodcells\\bloodcells.ipynb Cell 41\u001b[0m line \u001b[0;36m4\n\u001b[0;32m      <a href='vscode-notebook-cell:/e%3A/vscode/datasciences/bloodcells/bloodcells.ipynb#X54sZmlsZQ%3D%3D?line=0'>1</a>\u001b[0m \u001b[39mdef\u001b[39;00m \u001b[39mb_model\u001b[39m(INPUT_SHAPE\u001b[39m=\u001b[39mINPUT_SHAPE, OUTPUT_SHAPE\u001b[39m=\u001b[39mOUTPUT_SHAPE,MODEL_URL\u001b[39m=\u001b[39mMODEL_URL):\n\u001b[0;32m      <a href='vscode-notebook-cell:/e%3A/vscode/datasciences/bloodcells/bloodcells.ipynb#X54sZmlsZQ%3D%3D?line=1'>2</a>\u001b[0m     \n\u001b[0;32m      <a href='vscode-notebook-cell:/e%3A/vscode/datasciences/bloodcells/bloodcells.ipynb#X54sZmlsZQ%3D%3D?line=2'>3</a>\u001b[0m     \u001b[39m#set up layers\u001b[39;00m\n\u001b[1;32m----> <a href='vscode-notebook-cell:/e%3A/vscode/datasciences/bloodcells/bloodcells.ipynb#X54sZmlsZQ%3D%3D?line=3'>4</a>\u001b[0m     model \u001b[39m=\u001b[39m tf\u001b[39m.\u001b[39mkeras\u001b[39m.\u001b[39mSequential([hub\u001b[39m.\u001b[39;49mKerasLayer(MODEL_URL),\n\u001b[0;32m      <a href='vscode-notebook-cell:/e%3A/vscode/datasciences/bloodcells/bloodcells.ipynb#X54sZmlsZQ%3D%3D?line=4'>5</a>\u001b[0m                                 tf\u001b[39m.\u001b[39mkeras\u001b[39m.\u001b[39mlayers\u001b[39m.\u001b[39mDense(units\u001b[39m=\u001b[39mOUTPUT_SHAPE,\n\u001b[0;32m      <a href='vscode-notebook-cell:/e%3A/vscode/datasciences/bloodcells/bloodcells.ipynb#X54sZmlsZQ%3D%3D?line=5'>6</a>\u001b[0m                                                     activation\u001b[39m=\u001b[39m\u001b[39m'\u001b[39m\u001b[39msoftmax\u001b[39m\u001b[39m'\u001b[39m)])\n\u001b[0;32m      <a href='vscode-notebook-cell:/e%3A/vscode/datasciences/bloodcells/bloodcells.ipynb#X54sZmlsZQ%3D%3D?line=6'>7</a>\u001b[0m     \u001b[39m# compile\u001b[39;00m\n\u001b[0;32m      <a href='vscode-notebook-cell:/e%3A/vscode/datasciences/bloodcells/bloodcells.ipynb#X54sZmlsZQ%3D%3D?line=7'>8</a>\u001b[0m     model\u001b[39m.\u001b[39mcompile(\n\u001b[0;32m      <a href='vscode-notebook-cell:/e%3A/vscode/datasciences/bloodcells/bloodcells.ipynb#X54sZmlsZQ%3D%3D?line=8'>9</a>\u001b[0m         loss \u001b[39m=\u001b[39m tf\u001b[39m.\u001b[39mkeras\u001b[39m.\u001b[39mlosses\u001b[39m.\u001b[39mCategoricalCrossentropy(),\n\u001b[0;32m     <a href='vscode-notebook-cell:/e%3A/vscode/datasciences/bloodcells/bloodcells.ipynb#X54sZmlsZQ%3D%3D?line=9'>10</a>\u001b[0m         optimizer\u001b[39m=\u001b[39m tf\u001b[39m.\u001b[39mkeras\u001b[39m.\u001b[39moptimizers\u001b[39m.\u001b[39mAdam(),\n\u001b[0;32m     <a href='vscode-notebook-cell:/e%3A/vscode/datasciences/bloodcells/bloodcells.ipynb#X54sZmlsZQ%3D%3D?line=10'>11</a>\u001b[0m         metrics\u001b[39m=\u001b[39m \u001b[39m'\u001b[39m\u001b[39maccuracy\u001b[39m\u001b[39m'\u001b[39m\n\u001b[0;32m     <a href='vscode-notebook-cell:/e%3A/vscode/datasciences/bloodcells/bloodcells.ipynb#X54sZmlsZQ%3D%3D?line=11'>12</a>\u001b[0m     )\n",
      "File \u001b[1;32mc:\\Users\\USER\\AppData\\Local\\Programs\\Python\\Python311\\Lib\\site-packages\\tensorflow_hub\\keras_layer.py:157\u001b[0m, in \u001b[0;36mKerasLayer.__init__\u001b[1;34m(self, handle, trainable, arguments, _sentinel, tags, signature, signature_outputs_as_dict, output_key, output_shape, load_options, **kwargs)\u001b[0m\n\u001b[0;32m    153\u001b[0m   \u001b[39mself\u001b[39m\u001b[39m.\u001b[39m_output_shape \u001b[39m=\u001b[39m data_structures\u001b[39m.\u001b[39mNoDependency(\n\u001b[0;32m    154\u001b[0m       _convert_nest_to_shapes(output_shape))\n\u001b[0;32m    156\u001b[0m \u001b[39mself\u001b[39m\u001b[39m.\u001b[39m_load_options \u001b[39m=\u001b[39m load_options\n\u001b[1;32m--> 157\u001b[0m \u001b[39mself\u001b[39m\u001b[39m.\u001b[39m_func \u001b[39m=\u001b[39m load_module(handle, tags, \u001b[39mself\u001b[39;49m\u001b[39m.\u001b[39;49m_load_options)\n\u001b[0;32m    158\u001b[0m \u001b[39mself\u001b[39m\u001b[39m.\u001b[39m_is_hub_module_v1 \u001b[39m=\u001b[39m \u001b[39mgetattr\u001b[39m(\u001b[39mself\u001b[39m\u001b[39m.\u001b[39m_func, \u001b[39m\"\u001b[39m\u001b[39m_is_hub_module_v1\u001b[39m\u001b[39m\"\u001b[39m, \u001b[39mFalse\u001b[39;00m)\n\u001b[0;32m    160\u001b[0m \u001b[39m# Update with the defaults when using legacy TF1 Hub format.\u001b[39;00m\n",
      "File \u001b[1;32mc:\\Users\\USER\\AppData\\Local\\Programs\\Python\\Python311\\Lib\\site-packages\\tensorflow_hub\\keras_layer.py:459\u001b[0m, in \u001b[0;36mload_module\u001b[1;34m(handle, tags, load_options)\u001b[0m\n\u001b[0;32m    457\u001b[0m     \u001b[39mexcept\u001b[39;00m \u001b[39mImportError\u001b[39;00m:  \u001b[39m# Expected before TF2.4.\u001b[39;00m\n\u001b[0;32m    458\u001b[0m       set_load_options \u001b[39m=\u001b[39m load_options\n\u001b[1;32m--> 459\u001b[0m \u001b[39mreturn\u001b[39;00m module_v2\u001b[39m.\u001b[39;49mload(handle, tags\u001b[39m=\u001b[39;49mtags, options\u001b[39m=\u001b[39;49mset_load_options)\n",
      "File \u001b[1;32mc:\\Users\\USER\\AppData\\Local\\Programs\\Python\\Python311\\Lib\\site-packages\\tensorflow_hub\\module_v2.py:93\u001b[0m, in \u001b[0;36mload\u001b[1;34m(handle, tags, options)\u001b[0m\n\u001b[0;32m     91\u001b[0m \u001b[39mif\u001b[39;00m \u001b[39mnot\u001b[39;00m \u001b[39misinstance\u001b[39m(handle, \u001b[39mstr\u001b[39m):\n\u001b[0;32m     92\u001b[0m   \u001b[39mraise\u001b[39;00m \u001b[39mValueError\u001b[39;00m(\u001b[39m\"\u001b[39m\u001b[39mExpected a string, got \u001b[39m\u001b[39m%s\u001b[39;00m\u001b[39m\"\u001b[39m \u001b[39m%\u001b[39m handle)\n\u001b[1;32m---> 93\u001b[0m module_path \u001b[39m=\u001b[39m resolve(handle)\n\u001b[0;32m     94\u001b[0m is_hub_module_v1 \u001b[39m=\u001b[39m tf\u001b[39m.\u001b[39mio\u001b[39m.\u001b[39mgfile\u001b[39m.\u001b[39mexists(\n\u001b[0;32m     95\u001b[0m     native_module\u001b[39m.\u001b[39mget_module_proto_path(module_path))\n\u001b[0;32m     96\u001b[0m \u001b[39mif\u001b[39;00m tags \u001b[39mis\u001b[39;00m \u001b[39mNone\u001b[39;00m \u001b[39mand\u001b[39;00m is_hub_module_v1:\n",
      "File \u001b[1;32mc:\\Users\\USER\\AppData\\Local\\Programs\\Python\\Python311\\Lib\\site-packages\\tensorflow_hub\\module_v2.py:48\u001b[0m, in \u001b[0;36mresolve\u001b[1;34m(handle)\u001b[0m\n\u001b[0;32m     24\u001b[0m \u001b[39mdef\u001b[39;00m \u001b[39mresolve\u001b[39m(handle):\n\u001b[0;32m     25\u001b[0m \u001b[39m  \u001b[39m\u001b[39m\"\"\"Resolves a module handle into a path.\u001b[39;00m\n\u001b[0;32m     26\u001b[0m \n\u001b[0;32m     27\u001b[0m \u001b[39m  This function works both for plain TF2 SavedModels and the legacy TF1 Hub\u001b[39;00m\n\u001b[1;32m   (...)\u001b[0m\n\u001b[0;32m     46\u001b[0m \u001b[39m    A string representing the Module path.\u001b[39;00m\n\u001b[0;32m     47\u001b[0m \u001b[39m  \"\"\"\u001b[39;00m\n\u001b[1;32m---> 48\u001b[0m   \u001b[39mreturn\u001b[39;00m registry\u001b[39m.\u001b[39;49mresolver(handle)\n",
      "File \u001b[1;32mc:\\Users\\USER\\AppData\\Local\\Programs\\Python\\Python311\\Lib\\site-packages\\tensorflow_hub\\registry.py:49\u001b[0m, in \u001b[0;36mMultiImplRegister.__call__\u001b[1;34m(self, *args, **kwargs)\u001b[0m\n\u001b[0;32m     47\u001b[0m \u001b[39mfor\u001b[39;00m impl \u001b[39min\u001b[39;00m \u001b[39mreversed\u001b[39m(\u001b[39mself\u001b[39m\u001b[39m.\u001b[39m_impls):\n\u001b[0;32m     48\u001b[0m   \u001b[39mif\u001b[39;00m impl\u001b[39m.\u001b[39mis_supported(\u001b[39m*\u001b[39margs, \u001b[39m*\u001b[39m\u001b[39m*\u001b[39mkwargs):\n\u001b[1;32m---> 49\u001b[0m     \u001b[39mreturn\u001b[39;00m impl(\u001b[39m*\u001b[39;49margs, \u001b[39m*\u001b[39;49m\u001b[39m*\u001b[39;49mkwargs)\n\u001b[0;32m     50\u001b[0m   \u001b[39melse\u001b[39;00m:\n\u001b[0;32m     51\u001b[0m     fails\u001b[39m.\u001b[39mappend(\u001b[39mtype\u001b[39m(impl)\u001b[39m.\u001b[39m\u001b[39m__name__\u001b[39m)\n",
      "File \u001b[1;32mc:\\Users\\USER\\AppData\\Local\\Programs\\Python\\Python311\\Lib\\site-packages\\tensorflow_hub\\compressed_module_resolver.py:81\u001b[0m, in \u001b[0;36mHttpCompressedFileResolver.__call__\u001b[1;34m(self, handle)\u001b[0m\n\u001b[0;32m     77\u001b[0m   response \u001b[39m=\u001b[39m \u001b[39mself\u001b[39m\u001b[39m.\u001b[39m_call_urlopen(request)\n\u001b[0;32m     78\u001b[0m   \u001b[39mreturn\u001b[39;00m resolver\u001b[39m.\u001b[39mDownloadManager(handle)\u001b[39m.\u001b[39mdownload_and_uncompress(\n\u001b[0;32m     79\u001b[0m       response, tmp_dir)\n\u001b[1;32m---> 81\u001b[0m \u001b[39mreturn\u001b[39;00m resolver\u001b[39m.\u001b[39;49matomic_download(handle, download, module_dir,\n\u001b[0;32m     82\u001b[0m                                 \u001b[39mself\u001b[39;49m\u001b[39m.\u001b[39;49m_lock_file_timeout_sec())\n",
      "File \u001b[1;32mc:\\Users\\USER\\AppData\\Local\\Programs\\Python\\Python311\\Lib\\site-packages\\tensorflow_hub\\resolver.py:411\u001b[0m, in \u001b[0;36matomic_download\u001b[1;34m(handle, download_fn, module_dir, lock_file_timeout_sec)\u001b[0m\n\u001b[0;32m    408\u001b[0m     \u001b[39mpass\u001b[39;00m\n\u001b[0;32m    410\u001b[0m   \u001b[39m# Wait for lock file to disappear.\u001b[39;00m\n\u001b[1;32m--> 411\u001b[0m   _wait_for_lock_to_disappear(handle, lock_file, lock_file_timeout_sec)\n\u001b[0;32m    412\u001b[0m   \u001b[39m# At this point we either deleted a lock or a lock got removed by the\u001b[39;00m\n\u001b[0;32m    413\u001b[0m   \u001b[39m# owner or another process. Perform one more iteration of the while-loop,\u001b[39;00m\n\u001b[0;32m    414\u001b[0m   \u001b[39m# we would either terminate due tf.compat.v1.gfile.Exists(module_dir) or\u001b[39;00m\n\u001b[1;32m   (...)\u001b[0m\n\u001b[0;32m    417\u001b[0m \n\u001b[0;32m    418\u001b[0m \u001b[39m# Lock file acquired.\u001b[39;00m\n\u001b[0;32m    419\u001b[0m logging\u001b[39m.\u001b[39minfo(\u001b[39m\"\u001b[39m\u001b[39mDownloading TF-Hub Module \u001b[39m\u001b[39m'\u001b[39m\u001b[39m%s\u001b[39;00m\u001b[39m'\u001b[39m\u001b[39m.\u001b[39m\u001b[39m\"\u001b[39m, handle)\n",
      "File \u001b[1;32mc:\\Users\\USER\\AppData\\Local\\Programs\\Python\\Python311\\Lib\\site-packages\\tensorflow_hub\\resolver.py:336\u001b[0m, in \u001b[0;36m_wait_for_lock_to_disappear\u001b[1;34m(handle, lock_file, lock_file_timeout_sec)\u001b[0m\n\u001b[0;32m    334\u001b[0m   \u001b[39mpass\u001b[39;00m\n\u001b[0;32m    335\u001b[0m \u001b[39mfinally\u001b[39;00m:\n\u001b[1;32m--> 336\u001b[0m   time\u001b[39m.\u001b[39;49msleep(\u001b[39m5\u001b[39;49m)\n",
      "\u001b[1;31mKeyboardInterrupt\u001b[0m: "
     ]
    }
   ],
   "source": [
    "model= b_model()"
   ]
  },
  {
   "cell_type": "code",
   "execution_count": null,
   "metadata": {},
   "outputs": [
    {
     "name": "stdout",
     "output_type": "stream",
     "text": [
      "Model: \"sequential_1\"\n",
      "_________________________________________________________________\n",
      " Layer (type)                Output Shape              Param #   \n",
      "=================================================================\n",
      " keras_layer_1 (KerasLayer)  (None, 1000)              66658680  \n",
      "                                                                 \n",
      " dense_1 (Dense)             (None, 4)                 4004      \n",
      "                                                                 \n",
      "=================================================================\n",
      "Total params: 66662684 (254.30 MB)\n",
      "Trainable params: 4004 (15.64 KB)\n",
      "Non-trainable params: 66658680 (254.28 MB)\n",
      "_________________________________________________________________\n"
     ]
    }
   ],
   "source": [
    "model.summary()"
   ]
  },
  {
   "cell_type": "markdown",
   "metadata": {},
   "source": [
    "# Early stopping "
   ]
  },
  {
   "cell_type": "code",
   "execution_count": null,
   "metadata": {},
   "outputs": [],
   "source": [
    "early_stopping = tf.keras.callbacks.EarlyStopping(monitor='accuracy', patience=2)"
   ]
  },
  {
   "cell_type": "code",
   "execution_count": null,
   "metadata": {},
   "outputs": [
    {
     "name": "stdout",
     "output_type": "stream",
     "text": [
      "Epoch 1/50\n",
      "312/312 [==============================] - 7346s 23s/step - loss: 1.3547 - accuracy: 0.3768 - val_loss: 1.3693 - val_accuracy: 0.3374\n",
      "Epoch 2/50\n",
      "200/312 [==================>...........] - ETA: 52:39 - loss: 1.3388 - accuracy: 0.4109"
     ]
    }
   ],
   "source": [
    "model.fit(x=training_data,\n",
    "        validation_data=val_data,\n",
    "        callbacks=early_stopping,\n",
    "        epochs=50,\n",
    "        validation_freq=1)"
   ]
  },
  {
   "cell_type": "code",
   "execution_count": null,
   "metadata": {},
   "outputs": [],
   "source": []
  }
 ],
 "metadata": {
  "kernelspec": {
   "display_name": "Python 3",
   "language": "python",
   "name": "python3"
  },
  "language_info": {
   "codemirror_mode": {
    "name": "ipython",
    "version": 3
   },
   "file_extension": ".py",
   "mimetype": "text/x-python",
   "name": "python",
   "nbconvert_exporter": "python",
   "pygments_lexer": "ipython3",
   "version": "3.11.5"
  }
 },
 "nbformat": 4,
 "nbformat_minor": 2
}
